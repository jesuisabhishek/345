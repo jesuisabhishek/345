{
 "cells": [
  {
   "cell_type": "code",
   "execution_count": 1,
   "metadata": {},
   "outputs": [],
   "source": [
    "import pandas as pd\n",
    "import numpy as np\n",
    "import matplotlib.pyplot as plt\n",
    "import seaborn as sns\n",
    "%matplotlib inline"
   ]
  },
  {
   "cell_type": "code",
   "execution_count": 26,
   "metadata": {},
   "outputs": [
    {
     "data": {
      "text/html": [
       "<div>\n",
       "<style scoped>\n",
       "    .dataframe tbody tr th:only-of-type {\n",
       "        vertical-align: middle;\n",
       "    }\n",
       "\n",
       "    .dataframe tbody tr th {\n",
       "        vertical-align: top;\n",
       "    }\n",
       "\n",
       "    .dataframe thead th {\n",
       "        text-align: right;\n",
       "    }\n",
       "</style>\n",
       "<table border=\"1\" class=\"dataframe\">\n",
       "  <thead>\n",
       "    <tr style=\"text-align: right;\">\n",
       "      <th></th>\n",
       "      <th>age</th>\n",
       "      <th>sex</th>\n",
       "      <th>cp</th>\n",
       "      <th>trestbps</th>\n",
       "      <th>chol</th>\n",
       "      <th>fbs</th>\n",
       "      <th>restecg</th>\n",
       "      <th>thalach</th>\n",
       "      <th>exang</th>\n",
       "      <th>oldpeak</th>\n",
       "      <th>slope</th>\n",
       "      <th>ca</th>\n",
       "      <th>thal</th>\n",
       "      <th>target</th>\n",
       "    </tr>\n",
       "  </thead>\n",
       "  <tbody>\n",
       "    <tr>\n",
       "      <th>0</th>\n",
       "      <td>63</td>\n",
       "      <td>1</td>\n",
       "      <td>4</td>\n",
       "      <td>140</td>\n",
       "      <td>260</td>\n",
       "      <td>0</td>\n",
       "      <td>1</td>\n",
       "      <td>112</td>\n",
       "      <td>1</td>\n",
       "      <td>3</td>\n",
       "      <td>2</td>\n",
       "      <td>?</td>\n",
       "      <td>?</td>\n",
       "      <td>2</td>\n",
       "    </tr>\n",
       "    <tr>\n",
       "      <th>1</th>\n",
       "      <td>44</td>\n",
       "      <td>1</td>\n",
       "      <td>4</td>\n",
       "      <td>130</td>\n",
       "      <td>209</td>\n",
       "      <td>0</td>\n",
       "      <td>1</td>\n",
       "      <td>127</td>\n",
       "      <td>0</td>\n",
       "      <td>0</td>\n",
       "      <td>?</td>\n",
       "      <td>?</td>\n",
       "      <td>?</td>\n",
       "      <td>0</td>\n",
       "    </tr>\n",
       "    <tr>\n",
       "      <th>2</th>\n",
       "      <td>60</td>\n",
       "      <td>1</td>\n",
       "      <td>4</td>\n",
       "      <td>132</td>\n",
       "      <td>218</td>\n",
       "      <td>0</td>\n",
       "      <td>1</td>\n",
       "      <td>140</td>\n",
       "      <td>1</td>\n",
       "      <td>1.5</td>\n",
       "      <td>3</td>\n",
       "      <td>?</td>\n",
       "      <td>?</td>\n",
       "      <td>2</td>\n",
       "    </tr>\n",
       "    <tr>\n",
       "      <th>3</th>\n",
       "      <td>55</td>\n",
       "      <td>1</td>\n",
       "      <td>4</td>\n",
       "      <td>142</td>\n",
       "      <td>228</td>\n",
       "      <td>0</td>\n",
       "      <td>1</td>\n",
       "      <td>149</td>\n",
       "      <td>1</td>\n",
       "      <td>2.5</td>\n",
       "      <td>1</td>\n",
       "      <td>?</td>\n",
       "      <td>?</td>\n",
       "      <td>1</td>\n",
       "    </tr>\n",
       "    <tr>\n",
       "      <th>4</th>\n",
       "      <td>66</td>\n",
       "      <td>1</td>\n",
       "      <td>3</td>\n",
       "      <td>110</td>\n",
       "      <td>213</td>\n",
       "      <td>1</td>\n",
       "      <td>2</td>\n",
       "      <td>99</td>\n",
       "      <td>1</td>\n",
       "      <td>1.3</td>\n",
       "      <td>2</td>\n",
       "      <td>?</td>\n",
       "      <td>?</td>\n",
       "      <td>0</td>\n",
       "    </tr>\n",
       "    <tr>\n",
       "      <th>...</th>\n",
       "      <td>...</td>\n",
       "      <td>...</td>\n",
       "      <td>...</td>\n",
       "      <td>...</td>\n",
       "      <td>...</td>\n",
       "      <td>...</td>\n",
       "      <td>...</td>\n",
       "      <td>...</td>\n",
       "      <td>...</td>\n",
       "      <td>...</td>\n",
       "      <td>...</td>\n",
       "      <td>...</td>\n",
       "      <td>...</td>\n",
       "      <td>...</td>\n",
       "    </tr>\n",
       "    <tr>\n",
       "      <th>195</th>\n",
       "      <td>54</td>\n",
       "      <td>0</td>\n",
       "      <td>4</td>\n",
       "      <td>127</td>\n",
       "      <td>333</td>\n",
       "      <td>1</td>\n",
       "      <td>1</td>\n",
       "      <td>154</td>\n",
       "      <td>0</td>\n",
       "      <td>0</td>\n",
       "      <td>?</td>\n",
       "      <td>?</td>\n",
       "      <td>?</td>\n",
       "      <td>1</td>\n",
       "    </tr>\n",
       "    <tr>\n",
       "      <th>196</th>\n",
       "      <td>62</td>\n",
       "      <td>1</td>\n",
       "      <td>1</td>\n",
       "      <td>?</td>\n",
       "      <td>139</td>\n",
       "      <td>0</td>\n",
       "      <td>1</td>\n",
       "      <td>?</td>\n",
       "      <td>?</td>\n",
       "      <td>?</td>\n",
       "      <td>?</td>\n",
       "      <td>?</td>\n",
       "      <td>?</td>\n",
       "      <td>0</td>\n",
       "    </tr>\n",
       "    <tr>\n",
       "      <th>197</th>\n",
       "      <td>55</td>\n",
       "      <td>1</td>\n",
       "      <td>4</td>\n",
       "      <td>122</td>\n",
       "      <td>223</td>\n",
       "      <td>1</td>\n",
       "      <td>1</td>\n",
       "      <td>100</td>\n",
       "      <td>0</td>\n",
       "      <td>0</td>\n",
       "      <td>?</td>\n",
       "      <td>?</td>\n",
       "      <td>6</td>\n",
       "      <td>2</td>\n",
       "    </tr>\n",
       "    <tr>\n",
       "      <th>198</th>\n",
       "      <td>58</td>\n",
       "      <td>1</td>\n",
       "      <td>4</td>\n",
       "      <td>?</td>\n",
       "      <td>385</td>\n",
       "      <td>1</td>\n",
       "      <td>2</td>\n",
       "      <td>?</td>\n",
       "      <td>?</td>\n",
       "      <td>?</td>\n",
       "      <td>?</td>\n",
       "      <td>?</td>\n",
       "      <td>?</td>\n",
       "      <td>0</td>\n",
       "    </tr>\n",
       "    <tr>\n",
       "      <th>199</th>\n",
       "      <td>62</td>\n",
       "      <td>1</td>\n",
       "      <td>2</td>\n",
       "      <td>120</td>\n",
       "      <td>254</td>\n",
       "      <td>0</td>\n",
       "      <td>2</td>\n",
       "      <td>93</td>\n",
       "      <td>1</td>\n",
       "      <td>0</td>\n",
       "      <td>?</td>\n",
       "      <td>?</td>\n",
       "      <td>?</td>\n",
       "      <td>1</td>\n",
       "    </tr>\n",
       "  </tbody>\n",
       "</table>\n",
       "<p>200 rows × 14 columns</p>\n",
       "</div>"
      ],
      "text/plain": [
       "     age  sex  cp trestbps chol fbs  restecg thalach exang oldpeak slope ca  \\\n",
       "0     63    1   4      140  260   0        1     112     1       3     2  ?   \n",
       "1     44    1   4      130  209   0        1     127     0       0     ?  ?   \n",
       "2     60    1   4      132  218   0        1     140     1     1.5     3  ?   \n",
       "3     55    1   4      142  228   0        1     149     1     2.5     1  ?   \n",
       "4     66    1   3      110  213   1        2      99     1     1.3     2  ?   \n",
       "..   ...  ...  ..      ...  ...  ..      ...     ...   ...     ...   ... ..   \n",
       "195   54    0   4      127  333   1        1     154     0       0     ?  ?   \n",
       "196   62    1   1        ?  139   0        1       ?     ?       ?     ?  ?   \n",
       "197   55    1   4      122  223   1        1     100     0       0     ?  ?   \n",
       "198   58    1   4        ?  385   1        2       ?     ?       ?     ?  ?   \n",
       "199   62    1   2      120  254   0        2      93     1       0     ?  ?   \n",
       "\n",
       "    thal  target  \n",
       "0      ?       2  \n",
       "1      ?       0  \n",
       "2      ?       2  \n",
       "3      ?       1  \n",
       "4      ?       0  \n",
       "..   ...     ...  \n",
       "195    ?       1  \n",
       "196    ?       0  \n",
       "197    6       2  \n",
       "198    ?       0  \n",
       "199    ?       1  \n",
       "\n",
       "[200 rows x 14 columns]"
      ]
     },
     "execution_count": 26,
     "metadata": {},
     "output_type": "execute_result"
    }
   ],
   "source": [
    "df = pd.read_csv('heart_disease.csv')\n",
    "df"
   ]
  },
  {
   "cell_type": "code",
   "execution_count": 27,
   "metadata": {},
   "outputs": [
    {
     "name": "stdout",
     "output_type": "stream",
     "text": [
      "<class 'pandas.core.frame.DataFrame'>\n",
      "RangeIndex: 200 entries, 0 to 199\n",
      "Data columns (total 14 columns):\n",
      " #   Column    Non-Null Count  Dtype \n",
      "---  ------    --------------  ----- \n",
      " 0   age       200 non-null    int64 \n",
      " 1   sex       200 non-null    int64 \n",
      " 2   cp        200 non-null    int64 \n",
      " 3   trestbps  200 non-null    object\n",
      " 4   chol      200 non-null    object\n",
      " 5   fbs       200 non-null    object\n",
      " 6   restecg   200 non-null    int64 \n",
      " 7   thalach   200 non-null    object\n",
      " 8   exang     200 non-null    object\n",
      " 9   oldpeak   200 non-null    object\n",
      " 10  slope     200 non-null    object\n",
      " 11  ca        200 non-null    object\n",
      " 12  thal      200 non-null    object\n",
      " 13  target    200 non-null    int64 \n",
      "dtypes: int64(5), object(9)\n",
      "memory usage: 22.0+ KB\n"
     ]
    }
   ],
   "source": [
    "df.info()"
   ]
  },
  {
   "cell_type": "code",
   "execution_count": 38,
   "metadata": {},
   "outputs": [],
   "source": [
    "df.replace({'?':np.nan},inplace=True)"
   ]
  },
  {
   "cell_type": "code",
   "execution_count": 39,
   "metadata": {},
   "outputs": [
    {
     "data": {
      "text/html": [
       "<div>\n",
       "<style scoped>\n",
       "    .dataframe tbody tr th:only-of-type {\n",
       "        vertical-align: middle;\n",
       "    }\n",
       "\n",
       "    .dataframe tbody tr th {\n",
       "        vertical-align: top;\n",
       "    }\n",
       "\n",
       "    .dataframe thead th {\n",
       "        text-align: right;\n",
       "    }\n",
       "</style>\n",
       "<table border=\"1\" class=\"dataframe\">\n",
       "  <thead>\n",
       "    <tr style=\"text-align: right;\">\n",
       "      <th></th>\n",
       "      <th>age</th>\n",
       "      <th>sex</th>\n",
       "      <th>cp</th>\n",
       "      <th>trestbps</th>\n",
       "      <th>chol</th>\n",
       "      <th>fbs</th>\n",
       "      <th>restecg</th>\n",
       "      <th>thalach</th>\n",
       "      <th>exang</th>\n",
       "      <th>oldpeak</th>\n",
       "      <th>slope</th>\n",
       "      <th>ca</th>\n",
       "      <th>thal</th>\n",
       "      <th>target</th>\n",
       "    </tr>\n",
       "  </thead>\n",
       "  <tbody>\n",
       "    <tr>\n",
       "      <th>0</th>\n",
       "      <td>63</td>\n",
       "      <td>1</td>\n",
       "      <td>4</td>\n",
       "      <td>140</td>\n",
       "      <td>260</td>\n",
       "      <td>0</td>\n",
       "      <td>1</td>\n",
       "      <td>112</td>\n",
       "      <td>1</td>\n",
       "      <td>3</td>\n",
       "      <td>2</td>\n",
       "      <td>NaN</td>\n",
       "      <td>NaN</td>\n",
       "      <td>2</td>\n",
       "    </tr>\n",
       "    <tr>\n",
       "      <th>1</th>\n",
       "      <td>44</td>\n",
       "      <td>1</td>\n",
       "      <td>4</td>\n",
       "      <td>130</td>\n",
       "      <td>209</td>\n",
       "      <td>0</td>\n",
       "      <td>1</td>\n",
       "      <td>127</td>\n",
       "      <td>0</td>\n",
       "      <td>0</td>\n",
       "      <td>NaN</td>\n",
       "      <td>NaN</td>\n",
       "      <td>NaN</td>\n",
       "      <td>0</td>\n",
       "    </tr>\n",
       "    <tr>\n",
       "      <th>2</th>\n",
       "      <td>60</td>\n",
       "      <td>1</td>\n",
       "      <td>4</td>\n",
       "      <td>132</td>\n",
       "      <td>218</td>\n",
       "      <td>0</td>\n",
       "      <td>1</td>\n",
       "      <td>140</td>\n",
       "      <td>1</td>\n",
       "      <td>1.5</td>\n",
       "      <td>3</td>\n",
       "      <td>NaN</td>\n",
       "      <td>NaN</td>\n",
       "      <td>2</td>\n",
       "    </tr>\n",
       "    <tr>\n",
       "      <th>3</th>\n",
       "      <td>55</td>\n",
       "      <td>1</td>\n",
       "      <td>4</td>\n",
       "      <td>142</td>\n",
       "      <td>228</td>\n",
       "      <td>0</td>\n",
       "      <td>1</td>\n",
       "      <td>149</td>\n",
       "      <td>1</td>\n",
       "      <td>2.5</td>\n",
       "      <td>1</td>\n",
       "      <td>NaN</td>\n",
       "      <td>NaN</td>\n",
       "      <td>1</td>\n",
       "    </tr>\n",
       "    <tr>\n",
       "      <th>4</th>\n",
       "      <td>66</td>\n",
       "      <td>1</td>\n",
       "      <td>3</td>\n",
       "      <td>110</td>\n",
       "      <td>213</td>\n",
       "      <td>1</td>\n",
       "      <td>2</td>\n",
       "      <td>99</td>\n",
       "      <td>1</td>\n",
       "      <td>1.3</td>\n",
       "      <td>2</td>\n",
       "      <td>NaN</td>\n",
       "      <td>NaN</td>\n",
       "      <td>0</td>\n",
       "    </tr>\n",
       "    <tr>\n",
       "      <th>...</th>\n",
       "      <td>...</td>\n",
       "      <td>...</td>\n",
       "      <td>...</td>\n",
       "      <td>...</td>\n",
       "      <td>...</td>\n",
       "      <td>...</td>\n",
       "      <td>...</td>\n",
       "      <td>...</td>\n",
       "      <td>...</td>\n",
       "      <td>...</td>\n",
       "      <td>...</td>\n",
       "      <td>...</td>\n",
       "      <td>...</td>\n",
       "      <td>...</td>\n",
       "    </tr>\n",
       "    <tr>\n",
       "      <th>195</th>\n",
       "      <td>54</td>\n",
       "      <td>0</td>\n",
       "      <td>4</td>\n",
       "      <td>127</td>\n",
       "      <td>333</td>\n",
       "      <td>1</td>\n",
       "      <td>1</td>\n",
       "      <td>154</td>\n",
       "      <td>0</td>\n",
       "      <td>0</td>\n",
       "      <td>NaN</td>\n",
       "      <td>NaN</td>\n",
       "      <td>NaN</td>\n",
       "      <td>1</td>\n",
       "    </tr>\n",
       "    <tr>\n",
       "      <th>196</th>\n",
       "      <td>62</td>\n",
       "      <td>1</td>\n",
       "      <td>1</td>\n",
       "      <td>NaN</td>\n",
       "      <td>139</td>\n",
       "      <td>0</td>\n",
       "      <td>1</td>\n",
       "      <td>NaN</td>\n",
       "      <td>NaN</td>\n",
       "      <td>NaN</td>\n",
       "      <td>NaN</td>\n",
       "      <td>NaN</td>\n",
       "      <td>NaN</td>\n",
       "      <td>0</td>\n",
       "    </tr>\n",
       "    <tr>\n",
       "      <th>197</th>\n",
       "      <td>55</td>\n",
       "      <td>1</td>\n",
       "      <td>4</td>\n",
       "      <td>122</td>\n",
       "      <td>223</td>\n",
       "      <td>1</td>\n",
       "      <td>1</td>\n",
       "      <td>100</td>\n",
       "      <td>0</td>\n",
       "      <td>0</td>\n",
       "      <td>NaN</td>\n",
       "      <td>NaN</td>\n",
       "      <td>6</td>\n",
       "      <td>2</td>\n",
       "    </tr>\n",
       "    <tr>\n",
       "      <th>198</th>\n",
       "      <td>58</td>\n",
       "      <td>1</td>\n",
       "      <td>4</td>\n",
       "      <td>NaN</td>\n",
       "      <td>385</td>\n",
       "      <td>1</td>\n",
       "      <td>2</td>\n",
       "      <td>NaN</td>\n",
       "      <td>NaN</td>\n",
       "      <td>NaN</td>\n",
       "      <td>NaN</td>\n",
       "      <td>NaN</td>\n",
       "      <td>NaN</td>\n",
       "      <td>0</td>\n",
       "    </tr>\n",
       "    <tr>\n",
       "      <th>199</th>\n",
       "      <td>62</td>\n",
       "      <td>1</td>\n",
       "      <td>2</td>\n",
       "      <td>120</td>\n",
       "      <td>254</td>\n",
       "      <td>0</td>\n",
       "      <td>2</td>\n",
       "      <td>93</td>\n",
       "      <td>1</td>\n",
       "      <td>0</td>\n",
       "      <td>NaN</td>\n",
       "      <td>NaN</td>\n",
       "      <td>NaN</td>\n",
       "      <td>1</td>\n",
       "    </tr>\n",
       "  </tbody>\n",
       "</table>\n",
       "<p>200 rows × 14 columns</p>\n",
       "</div>"
      ],
      "text/plain": [
       "     age  sex  cp trestbps chol fbs  restecg thalach exang oldpeak slope   ca  \\\n",
       "0     63    1   4      140  260   0        1     112     1       3     2  NaN   \n",
       "1     44    1   4      130  209   0        1     127     0       0   NaN  NaN   \n",
       "2     60    1   4      132  218   0        1     140     1     1.5     3  NaN   \n",
       "3     55    1   4      142  228   0        1     149     1     2.5     1  NaN   \n",
       "4     66    1   3      110  213   1        2      99     1     1.3     2  NaN   \n",
       "..   ...  ...  ..      ...  ...  ..      ...     ...   ...     ...   ...  ...   \n",
       "195   54    0   4      127  333   1        1     154     0       0   NaN  NaN   \n",
       "196   62    1   1      NaN  139   0        1     NaN   NaN     NaN   NaN  NaN   \n",
       "197   55    1   4      122  223   1        1     100     0       0   NaN  NaN   \n",
       "198   58    1   4      NaN  385   1        2     NaN   NaN     NaN   NaN  NaN   \n",
       "199   62    1   2      120  254   0        2      93     1       0   NaN  NaN   \n",
       "\n",
       "    thal  target  \n",
       "0    NaN       2  \n",
       "1    NaN       0  \n",
       "2    NaN       2  \n",
       "3    NaN       1  \n",
       "4    NaN       0  \n",
       "..   ...     ...  \n",
       "195  NaN       1  \n",
       "196  NaN       0  \n",
       "197    6       2  \n",
       "198  NaN       0  \n",
       "199  NaN       1  \n",
       "\n",
       "[200 rows x 14 columns]"
      ]
     },
     "execution_count": 39,
     "metadata": {},
     "output_type": "execute_result"
    }
   ],
   "source": [
    "df"
   ]
  },
  {
   "cell_type": "code",
   "execution_count": 41,
   "metadata": {},
   "outputs": [
    {
     "data": {
      "text/plain": [
       "<matplotlib.axes._subplots.AxesSubplot at 0x2ddbc31788>"
      ]
     },
     "execution_count": 41,
     "metadata": {},
     "output_type": "execute_result"
    },
    {
     "data": {
      "image/png": "[encoded data removed]",
      "text/plain": [
       "<Figure size 432x288 with 2 Axes>"
      ]
     },
     "metadata": {
      "needs_background": "light"
     },
     "output_type": "display_data"
    }
   ],
   "source": [
    "sns.heatmap(df.isna())"
   ]
  },
  {
   "cell_type": "code",
   "execution_count": 50,
   "metadata": {},
   "outputs": [],
   "source": [
    "# since they are almost null\n",
    "df.drop(['slope','ca','thal'],axis=1,inplace=True)"
   ]
  },
  {
   "cell_type": "code",
   "execution_count": 56,
   "metadata": {},
   "outputs": [
    {
     "data": {
      "text/plain": [
       "Index(['age', 'sex', 'cp', 'trestbps', 'chol', 'fbs', 'restecg', 'thalach',\n",
       "       'exang', 'oldpeak', 'target'],\n",
       "      dtype='object')"
      ]
     },
     "execution_count": 56,
     "metadata": {},
     "output_type": "execute_result"
    }
   ],
   "source": [
    "df.columns"
   ]
  },
  {
   "cell_type": "code",
   "execution_count": 51,
   "metadata": {},
   "outputs": [],
   "source": [
    "from sklearn.impute import SimpleImputer"
   ]
  },
  {
   "cell_type": "code",
   "execution_count": 59,
   "metadata": {},
   "outputs": [],
   "source": [
    "si = SimpleImputer(strategy='mean')\n",
    "\n",
    "df['trestbps']= si.fit_transform(df['trestbps'].values.reshape(-1,1))\n",
    "df['chol']= si.fit_transform(df['chol'].values.reshape(-1,1))\n",
    "df['fbs']= si.fit_transform(df['fbs'].values.reshape(-1,1))\n",
    "df['thalach']= si.fit_transform(df['thalach'].values.reshape(-1,1))\n",
    "df['exang']= si.fit_transform(df['exang'].values.reshape(-1,1))\n",
    "df['oldpeak']= si.fit_transform(df['oldpeak'].values.reshape(-1,1))"
   ]
  },
  {
   "cell_type": "code",
   "execution_count": 60,
   "metadata": {},
   "outputs": [
    {
     "data": {
      "text/html": [
       "<div>\n",
       "<style scoped>\n",
       "    .dataframe tbody tr th:only-of-type {\n",
       "        vertical-align: middle;\n",
       "    }\n",
       "\n",
       "    .dataframe tbody tr th {\n",
       "        vertical-align: top;\n",
       "    }\n",
       "\n",
       "    .dataframe thead th {\n",
       "        text-align: right;\n",
       "    }\n",
       "</style>\n",
       "<table border=\"1\" class=\"dataframe\">\n",
       "  <thead>\n",
       "    <tr style=\"text-align: right;\">\n",
       "      <th></th>\n",
       "      <th>age</th>\n",
       "      <th>sex</th>\n",
       "      <th>cp</th>\n",
       "      <th>trestbps</th>\n",
       "      <th>chol</th>\n",
       "      <th>fbs</th>\n",
       "      <th>restecg</th>\n",
       "      <th>thalach</th>\n",
       "      <th>exang</th>\n",
       "      <th>oldpeak</th>\n",
       "      <th>target</th>\n",
       "    </tr>\n",
       "  </thead>\n",
       "  <tbody>\n",
       "    <tr>\n",
       "      <th>0</th>\n",
       "      <td>63</td>\n",
       "      <td>1</td>\n",
       "      <td>4</td>\n",
       "      <td>140.000000</td>\n",
       "      <td>260.0</td>\n",
       "      <td>0.0</td>\n",
       "      <td>1</td>\n",
       "      <td>112.000000</td>\n",
       "      <td>1.000000</td>\n",
       "      <td>3.000000</td>\n",
       "      <td>2</td>\n",
       "    </tr>\n",
       "    <tr>\n",
       "      <th>1</th>\n",
       "      <td>44</td>\n",
       "      <td>1</td>\n",
       "      <td>4</td>\n",
       "      <td>130.000000</td>\n",
       "      <td>209.0</td>\n",
       "      <td>0.0</td>\n",
       "      <td>1</td>\n",
       "      <td>127.000000</td>\n",
       "      <td>0.000000</td>\n",
       "      <td>0.000000</td>\n",
       "      <td>0</td>\n",
       "    </tr>\n",
       "    <tr>\n",
       "      <th>2</th>\n",
       "      <td>60</td>\n",
       "      <td>1</td>\n",
       "      <td>4</td>\n",
       "      <td>132.000000</td>\n",
       "      <td>218.0</td>\n",
       "      <td>0.0</td>\n",
       "      <td>1</td>\n",
       "      <td>140.000000</td>\n",
       "      <td>1.000000</td>\n",
       "      <td>1.500000</td>\n",
       "      <td>2</td>\n",
       "    </tr>\n",
       "    <tr>\n",
       "      <th>3</th>\n",
       "      <td>55</td>\n",
       "      <td>1</td>\n",
       "      <td>4</td>\n",
       "      <td>142.000000</td>\n",
       "      <td>228.0</td>\n",
       "      <td>0.0</td>\n",
       "      <td>1</td>\n",
       "      <td>149.000000</td>\n",
       "      <td>1.000000</td>\n",
       "      <td>2.500000</td>\n",
       "      <td>1</td>\n",
       "    </tr>\n",
       "    <tr>\n",
       "      <th>4</th>\n",
       "      <td>66</td>\n",
       "      <td>1</td>\n",
       "      <td>3</td>\n",
       "      <td>110.000000</td>\n",
       "      <td>213.0</td>\n",
       "      <td>1.0</td>\n",
       "      <td>2</td>\n",
       "      <td>99.000000</td>\n",
       "      <td>1.000000</td>\n",
       "      <td>1.300000</td>\n",
       "      <td>0</td>\n",
       "    </tr>\n",
       "    <tr>\n",
       "      <th>...</th>\n",
       "      <td>...</td>\n",
       "      <td>...</td>\n",
       "      <td>...</td>\n",
       "      <td>...</td>\n",
       "      <td>...</td>\n",
       "      <td>...</td>\n",
       "      <td>...</td>\n",
       "      <td>...</td>\n",
       "      <td>...</td>\n",
       "      <td>...</td>\n",
       "      <td>...</td>\n",
       "    </tr>\n",
       "    <tr>\n",
       "      <th>195</th>\n",
       "      <td>54</td>\n",
       "      <td>0</td>\n",
       "      <td>4</td>\n",
       "      <td>127.000000</td>\n",
       "      <td>333.0</td>\n",
       "      <td>1.0</td>\n",
       "      <td>1</td>\n",
       "      <td>154.000000</td>\n",
       "      <td>0.000000</td>\n",
       "      <td>0.000000</td>\n",
       "      <td>1</td>\n",
       "    </tr>\n",
       "    <tr>\n",
       "      <th>196</th>\n",
       "      <td>62</td>\n",
       "      <td>1</td>\n",
       "      <td>1</td>\n",
       "      <td>133.763889</td>\n",
       "      <td>139.0</td>\n",
       "      <td>0.0</td>\n",
       "      <td>1</td>\n",
       "      <td>122.795918</td>\n",
       "      <td>0.646259</td>\n",
       "      <td>1.320833</td>\n",
       "      <td>0</td>\n",
       "    </tr>\n",
       "    <tr>\n",
       "      <th>197</th>\n",
       "      <td>55</td>\n",
       "      <td>1</td>\n",
       "      <td>4</td>\n",
       "      <td>122.000000</td>\n",
       "      <td>223.0</td>\n",
       "      <td>1.0</td>\n",
       "      <td>1</td>\n",
       "      <td>100.000000</td>\n",
       "      <td>0.000000</td>\n",
       "      <td>0.000000</td>\n",
       "      <td>2</td>\n",
       "    </tr>\n",
       "    <tr>\n",
       "      <th>198</th>\n",
       "      <td>58</td>\n",
       "      <td>1</td>\n",
       "      <td>4</td>\n",
       "      <td>133.763889</td>\n",
       "      <td>385.0</td>\n",
       "      <td>1.0</td>\n",
       "      <td>2</td>\n",
       "      <td>122.795918</td>\n",
       "      <td>0.646259</td>\n",
       "      <td>1.320833</td>\n",
       "      <td>0</td>\n",
       "    </tr>\n",
       "    <tr>\n",
       "      <th>199</th>\n",
       "      <td>62</td>\n",
       "      <td>1</td>\n",
       "      <td>2</td>\n",
       "      <td>120.000000</td>\n",
       "      <td>254.0</td>\n",
       "      <td>0.0</td>\n",
       "      <td>2</td>\n",
       "      <td>93.000000</td>\n",
       "      <td>1.000000</td>\n",
       "      <td>0.000000</td>\n",
       "      <td>1</td>\n",
       "    </tr>\n",
       "  </tbody>\n",
       "</table>\n",
       "<p>200 rows × 11 columns</p>\n",
       "</div>"
      ],
      "text/plain": [
       "     age  sex  cp    trestbps   chol  fbs  restecg     thalach     exang  \\\n",
       "0     63    1   4  140.000000  260.0  0.0        1  112.000000  1.000000   \n",
       "1     44    1   4  130.000000  209.0  0.0        1  127.000000  0.000000   \n",
       "2     60    1   4  132.000000  218.0  0.0        1  140.000000  1.000000   \n",
       "3     55    1   4  142.000000  228.0  0.0        1  149.000000  1.000000   \n",
       "4     66    1   3  110.000000  213.0  1.0        2   99.000000  1.000000   \n",
       "..   ...  ...  ..         ...    ...  ...      ...         ...       ...   \n",
       "195   54    0   4  127.000000  333.0  1.0        1  154.000000  0.000000   \n",
       "196   62    1   1  133.763889  139.0  0.0        1  122.795918  0.646259   \n",
       "197   55    1   4  122.000000  223.0  1.0        1  100.000000  0.000000   \n",
       "198   58    1   4  133.763889  385.0  1.0        2  122.795918  0.646259   \n",
       "199   62    1   2  120.000000  254.0  0.0        2   93.000000  1.000000   \n",
       "\n",
       "      oldpeak  target  \n",
       "0    3.000000       2  \n",
       "1    0.000000       0  \n",
       "2    1.500000       2  \n",
       "3    2.500000       1  \n",
       "4    1.300000       0  \n",
       "..        ...     ...  \n",
       "195  0.000000       1  \n",
       "196  1.320833       0  \n",
       "197  0.000000       2  \n",
       "198  1.320833       0  \n",
       "199  0.000000       1  \n",
       "\n",
       "[200 rows x 11 columns]"
      ]
     },
     "execution_count": 60,
     "metadata": {},
     "output_type": "execute_result"
    }
   ],
   "source": [
    "df"
   ]
  },
  {
   "cell_type": "code",
   "execution_count": 61,
   "metadata": {},
   "outputs": [
    {
     "data": {
      "text/plain": [
       "<matplotlib.axes._subplots.AxesSubplot at 0x2ddcc0eac8>"
      ]
     },
     "execution_count": 61,
     "metadata": {},
     "output_type": "execute_result"
    },
    {
     "data": {
      "image/png": "[encoded data removed]",
      "text/plain": [
       "<Figure size 432x288 with 2 Axes>"
      ]
     },
     "metadata": {
      "needs_background": "light"
     },
     "output_type": "display_data"
    }
   ],
   "source": [
    "sns.heatmap(df.isna())"
   ]
  },
  {
   "cell_type": "code",
   "execution_count": 62,
   "metadata": {},
   "outputs": [
    {
     "data": {
      "text/html": [
       "<div>\n",
       "<style scoped>\n",
       "    .dataframe tbody tr th:only-of-type {\n",
       "        vertical-align: middle;\n",
       "    }\n",
       "\n",
       "    .dataframe tbody tr th {\n",
       "        vertical-align: top;\n",
       "    }\n",
       "\n",
       "    .dataframe thead th {\n",
       "        text-align: right;\n",
       "    }\n",
       "</style>\n",
       "<table border=\"1\" class=\"dataframe\">\n",
       "  <thead>\n",
       "    <tr style=\"text-align: right;\">\n",
       "      <th></th>\n",
       "      <th>age</th>\n",
       "      <th>sex</th>\n",
       "      <th>cp</th>\n",
       "      <th>trestbps</th>\n",
       "      <th>chol</th>\n",
       "      <th>fbs</th>\n",
       "      <th>restecg</th>\n",
       "      <th>thalach</th>\n",
       "      <th>exang</th>\n",
       "      <th>oldpeak</th>\n",
       "      <th>target</th>\n",
       "    </tr>\n",
       "  </thead>\n",
       "  <tbody>\n",
       "    <tr>\n",
       "      <th>count</th>\n",
       "      <td>200.000000</td>\n",
       "      <td>200.000000</td>\n",
       "      <td>200.000000</td>\n",
       "      <td>200.000000</td>\n",
       "      <td>200.000000</td>\n",
       "      <td>200.000000</td>\n",
       "      <td>200.000000</td>\n",
       "      <td>200.000000</td>\n",
       "      <td>200.000000</td>\n",
       "      <td>200.000000</td>\n",
       "      <td>200.000000</td>\n",
       "    </tr>\n",
       "    <tr>\n",
       "      <th>mean</th>\n",
       "      <td>59.350000</td>\n",
       "      <td>0.970000</td>\n",
       "      <td>3.505000</td>\n",
       "      <td>133.763889</td>\n",
       "      <td>178.746114</td>\n",
       "      <td>0.352332</td>\n",
       "      <td>0.735000</td>\n",
       "      <td>122.795918</td>\n",
       "      <td>0.646259</td>\n",
       "      <td>1.320833</td>\n",
       "      <td>1.520000</td>\n",
       "    </tr>\n",
       "    <tr>\n",
       "      <th>std</th>\n",
       "      <td>7.811697</td>\n",
       "      <td>0.171015</td>\n",
       "      <td>0.795701</td>\n",
       "      <td>18.257507</td>\n",
       "      <td>112.011633</td>\n",
       "      <td>0.470440</td>\n",
       "      <td>0.683455</td>\n",
       "      <td>18.835692</td>\n",
       "      <td>0.410940</td>\n",
       "      <td>0.937755</td>\n",
       "      <td>1.219441</td>\n",
       "    </tr>\n",
       "    <tr>\n",
       "      <th>min</th>\n",
       "      <td>35.000000</td>\n",
       "      <td>0.000000</td>\n",
       "      <td>1.000000</td>\n",
       "      <td>0.000000</td>\n",
       "      <td>0.000000</td>\n",
       "      <td>0.000000</td>\n",
       "      <td>0.000000</td>\n",
       "      <td>69.000000</td>\n",
       "      <td>0.000000</td>\n",
       "      <td>-0.500000</td>\n",
       "      <td>0.000000</td>\n",
       "    </tr>\n",
       "    <tr>\n",
       "      <th>25%</th>\n",
       "      <td>55.000000</td>\n",
       "      <td>1.000000</td>\n",
       "      <td>3.000000</td>\n",
       "      <td>125.750000</td>\n",
       "      <td>129.250000</td>\n",
       "      <td>0.000000</td>\n",
       "      <td>0.000000</td>\n",
       "      <td>112.000000</td>\n",
       "      <td>0.000000</td>\n",
       "      <td>1.000000</td>\n",
       "      <td>0.000000</td>\n",
       "    </tr>\n",
       "    <tr>\n",
       "      <th>50%</th>\n",
       "      <td>60.000000</td>\n",
       "      <td>1.000000</td>\n",
       "      <td>4.000000</td>\n",
       "      <td>133.763889</td>\n",
       "      <td>214.000000</td>\n",
       "      <td>0.000000</td>\n",
       "      <td>1.000000</td>\n",
       "      <td>122.795918</td>\n",
       "      <td>0.646259</td>\n",
       "      <td>1.320833</td>\n",
       "      <td>1.000000</td>\n",
       "    </tr>\n",
       "    <tr>\n",
       "      <th>75%</th>\n",
       "      <td>64.000000</td>\n",
       "      <td>1.000000</td>\n",
       "      <td>4.000000</td>\n",
       "      <td>140.000000</td>\n",
       "      <td>254.500000</td>\n",
       "      <td>1.000000</td>\n",
       "      <td>1.000000</td>\n",
       "      <td>130.000000</td>\n",
       "      <td>1.000000</td>\n",
       "      <td>2.000000</td>\n",
       "      <td>3.000000</td>\n",
       "    </tr>\n",
       "    <tr>\n",
       "      <th>max</th>\n",
       "      <td>77.000000</td>\n",
       "      <td>1.000000</td>\n",
       "      <td>4.000000</td>\n",
       "      <td>190.000000</td>\n",
       "      <td>458.000000</td>\n",
       "      <td>1.000000</td>\n",
       "      <td>2.000000</td>\n",
       "      <td>180.000000</td>\n",
       "      <td>1.000000</td>\n",
       "      <td>4.000000</td>\n",
       "      <td>4.000000</td>\n",
       "    </tr>\n",
       "  </tbody>\n",
       "</table>\n",
       "</div>"
      ],
      "text/plain": [
       "              age         sex          cp    trestbps        chol         fbs  \\\n",
       "count  200.000000  200.000000  200.000000  200.000000  200.000000  200.000000   \n",
       "mean    59.350000    0.970000    3.505000  133.763889  178.746114    0.352332   \n",
       "std      7.811697    0.171015    0.795701   18.257507  112.011633    0.470440   \n",
       "min     35.000000    0.000000    1.000000    0.000000    0.000000    0.000000   \n",
       "25%     55.000000    1.000000    3.000000  125.750000  129.250000    0.000000   \n",
       "50%     60.000000    1.000000    4.000000  133.763889  214.000000    0.000000   \n",
       "75%     64.000000    1.000000    4.000000  140.000000  254.500000    1.000000   \n",
       "max     77.000000    1.000000    4.000000  190.000000  458.000000    1.000000   \n",
       "\n",
       "          restecg     thalach       exang     oldpeak      target  \n",
       "count  200.000000  200.000000  200.000000  200.000000  200.000000  \n",
       "mean     0.735000  122.795918    0.646259    1.320833    1.520000  \n",
       "std      0.683455   18.835692    0.410940    0.937755    1.219441  \n",
       "min      0.000000   69.000000    0.000000   -0.500000    0.000000  \n",
       "25%      0.000000  112.000000    0.000000    1.000000    0.000000  \n",
       "50%      1.000000  122.795918    0.646259    1.320833    1.000000  \n",
       "75%      1.000000  130.000000    1.000000    2.000000    3.000000  \n",
       "max      2.000000  180.000000    1.000000    4.000000    4.000000  "
      ]
     },
     "execution_count": 62,
     "metadata": {},
     "output_type": "execute_result"
    }
   ],
   "source": [
    "df.describe()"
   ]
  },
  {
   "cell_type": "code",
   "execution_count": 63,
   "metadata": {},
   "outputs": [],
   "source": [
    "from scipy.stats import zscore"
   ]
  },
  {
   "cell_type": "code",
   "execution_count": 64,
   "metadata": {},
   "outputs": [
    {
     "data": {
      "text/plain": [
       "array([[4.68420533e-01, 1.75863115e-01, 6.23653755e-01, ...,\n",
       "        8.62970996e-01, 1.79511750e+00, 3.94610899e-01],\n",
       "       [1.96993293e+00, 1.75863115e-01, 6.23653755e-01, ...,\n",
       "        1.57658163e+00, 1.41204031e+00, 1.24960118e+00],\n",
       "       [8.34173552e-02, 1.75863115e-01, 6.23653755e-01, ...,\n",
       "        8.62970996e-01, 1.91538592e-01, 3.94610899e-01],\n",
       "       ...,\n",
       "       [5.58254608e-01, 1.75863115e-01, 6.23653755e-01, ...,\n",
       "        1.57658163e+00, 1.41204031e+00, 3.94610899e-01],\n",
       "       [1.73251430e-01, 1.75863115e-01, 6.23653755e-01, ...,\n",
       "        0.00000000e+00, 2.37377363e-16, 1.24960118e+00],\n",
       "       [3.40086140e-01, 1.75863115e-01, 1.89615940e+00, ...,\n",
       "        8.62970996e-01, 1.41204031e+00, 4.27495141e-01]])"
      ]
     },
     "execution_count": 64,
     "metadata": {},
     "output_type": "execute_result"
    }
   ],
   "source": [
    "z=np.abs(zscore(df))\n",
    "z"
   ]
  },
  {
   "cell_type": "code",
   "execution_count": 65,
   "metadata": {},
   "outputs": [
    {
     "data": {
      "text/plain": [
       "(array([ 24,  33,  51,  66,  70,  72,  76,  79,  96,  97, 126, 128, 131,\n",
       "        133, 137, 176, 190, 195, 196], dtype=int64),\n",
       " array([7, 3, 1, 2, 7, 2, 2, 1, 0, 2, 1, 1, 2, 2, 2, 3, 1, 1, 2],\n",
       "       dtype=int64))"
      ]
     },
     "execution_count": 65,
     "metadata": {},
     "output_type": "execute_result"
    }
   ],
   "source": [
    "threshold=3\n",
    "np.where(z>3)"
   ]
  },
  {
   "cell_type": "code",
   "execution_count": 66,
   "metadata": {},
   "outputs": [
    {
     "data": {
      "text/html": [
       "<div>\n",
       "<style scoped>\n",
       "    .dataframe tbody tr th:only-of-type {\n",
       "        vertical-align: middle;\n",
       "    }\n",
       "\n",
       "    .dataframe tbody tr th {\n",
       "        vertical-align: top;\n",
       "    }\n",
       "\n",
       "    .dataframe thead th {\n",
       "        text-align: right;\n",
       "    }\n",
       "</style>\n",
       "<table border=\"1\" class=\"dataframe\">\n",
       "  <thead>\n",
       "    <tr style=\"text-align: right;\">\n",
       "      <th></th>\n",
       "      <th>age</th>\n",
       "      <th>sex</th>\n",
       "      <th>cp</th>\n",
       "      <th>trestbps</th>\n",
       "      <th>chol</th>\n",
       "      <th>fbs</th>\n",
       "      <th>restecg</th>\n",
       "      <th>thalach</th>\n",
       "      <th>exang</th>\n",
       "      <th>oldpeak</th>\n",
       "      <th>target</th>\n",
       "    </tr>\n",
       "  </thead>\n",
       "  <tbody>\n",
       "    <tr>\n",
       "      <th>0</th>\n",
       "      <td>63</td>\n",
       "      <td>1</td>\n",
       "      <td>4</td>\n",
       "      <td>140.000000</td>\n",
       "      <td>260.0</td>\n",
       "      <td>0.0</td>\n",
       "      <td>1</td>\n",
       "      <td>112.000000</td>\n",
       "      <td>1.000000</td>\n",
       "      <td>3.000000</td>\n",
       "      <td>2</td>\n",
       "    </tr>\n",
       "    <tr>\n",
       "      <th>1</th>\n",
       "      <td>44</td>\n",
       "      <td>1</td>\n",
       "      <td>4</td>\n",
       "      <td>130.000000</td>\n",
       "      <td>209.0</td>\n",
       "      <td>0.0</td>\n",
       "      <td>1</td>\n",
       "      <td>127.000000</td>\n",
       "      <td>0.000000</td>\n",
       "      <td>0.000000</td>\n",
       "      <td>0</td>\n",
       "    </tr>\n",
       "    <tr>\n",
       "      <th>2</th>\n",
       "      <td>60</td>\n",
       "      <td>1</td>\n",
       "      <td>4</td>\n",
       "      <td>132.000000</td>\n",
       "      <td>218.0</td>\n",
       "      <td>0.0</td>\n",
       "      <td>1</td>\n",
       "      <td>140.000000</td>\n",
       "      <td>1.000000</td>\n",
       "      <td>1.500000</td>\n",
       "      <td>2</td>\n",
       "    </tr>\n",
       "    <tr>\n",
       "      <th>3</th>\n",
       "      <td>55</td>\n",
       "      <td>1</td>\n",
       "      <td>4</td>\n",
       "      <td>142.000000</td>\n",
       "      <td>228.0</td>\n",
       "      <td>0.0</td>\n",
       "      <td>1</td>\n",
       "      <td>149.000000</td>\n",
       "      <td>1.000000</td>\n",
       "      <td>2.500000</td>\n",
       "      <td>1</td>\n",
       "    </tr>\n",
       "    <tr>\n",
       "      <th>4</th>\n",
       "      <td>66</td>\n",
       "      <td>1</td>\n",
       "      <td>3</td>\n",
       "      <td>110.000000</td>\n",
       "      <td>213.0</td>\n",
       "      <td>1.0</td>\n",
       "      <td>2</td>\n",
       "      <td>99.000000</td>\n",
       "      <td>1.000000</td>\n",
       "      <td>1.300000</td>\n",
       "      <td>0</td>\n",
       "    </tr>\n",
       "    <tr>\n",
       "      <th>...</th>\n",
       "      <td>...</td>\n",
       "      <td>...</td>\n",
       "      <td>...</td>\n",
       "      <td>...</td>\n",
       "      <td>...</td>\n",
       "      <td>...</td>\n",
       "      <td>...</td>\n",
       "      <td>...</td>\n",
       "      <td>...</td>\n",
       "      <td>...</td>\n",
       "      <td>...</td>\n",
       "    </tr>\n",
       "    <tr>\n",
       "      <th>193</th>\n",
       "      <td>62</td>\n",
       "      <td>1</td>\n",
       "      <td>4</td>\n",
       "      <td>158.000000</td>\n",
       "      <td>170.0</td>\n",
       "      <td>0.0</td>\n",
       "      <td>1</td>\n",
       "      <td>138.000000</td>\n",
       "      <td>1.000000</td>\n",
       "      <td>0.000000</td>\n",
       "      <td>1</td>\n",
       "    </tr>\n",
       "    <tr>\n",
       "      <th>194</th>\n",
       "      <td>46</td>\n",
       "      <td>1</td>\n",
       "      <td>4</td>\n",
       "      <td>134.000000</td>\n",
       "      <td>310.0</td>\n",
       "      <td>0.0</td>\n",
       "      <td>0</td>\n",
       "      <td>126.000000</td>\n",
       "      <td>0.000000</td>\n",
       "      <td>0.000000</td>\n",
       "      <td>2</td>\n",
       "    </tr>\n",
       "    <tr>\n",
       "      <th>197</th>\n",
       "      <td>55</td>\n",
       "      <td>1</td>\n",
       "      <td>4</td>\n",
       "      <td>122.000000</td>\n",
       "      <td>223.0</td>\n",
       "      <td>1.0</td>\n",
       "      <td>1</td>\n",
       "      <td>100.000000</td>\n",
       "      <td>0.000000</td>\n",
       "      <td>0.000000</td>\n",
       "      <td>2</td>\n",
       "    </tr>\n",
       "    <tr>\n",
       "      <th>198</th>\n",
       "      <td>58</td>\n",
       "      <td>1</td>\n",
       "      <td>4</td>\n",
       "      <td>133.763889</td>\n",
       "      <td>385.0</td>\n",
       "      <td>1.0</td>\n",
       "      <td>2</td>\n",
       "      <td>122.795918</td>\n",
       "      <td>0.646259</td>\n",
       "      <td>1.320833</td>\n",
       "      <td>0</td>\n",
       "    </tr>\n",
       "    <tr>\n",
       "      <th>199</th>\n",
       "      <td>62</td>\n",
       "      <td>1</td>\n",
       "      <td>2</td>\n",
       "      <td>120.000000</td>\n",
       "      <td>254.0</td>\n",
       "      <td>0.0</td>\n",
       "      <td>2</td>\n",
       "      <td>93.000000</td>\n",
       "      <td>1.000000</td>\n",
       "      <td>0.000000</td>\n",
       "      <td>1</td>\n",
       "    </tr>\n",
       "  </tbody>\n",
       "</table>\n",
       "<p>181 rows × 11 columns</p>\n",
       "</div>"
      ],
      "text/plain": [
       "     age  sex  cp    trestbps   chol  fbs  restecg     thalach     exang  \\\n",
       "0     63    1   4  140.000000  260.0  0.0        1  112.000000  1.000000   \n",
       "1     44    1   4  130.000000  209.0  0.0        1  127.000000  0.000000   \n",
       "2     60    1   4  132.000000  218.0  0.0        1  140.000000  1.000000   \n",
       "3     55    1   4  142.000000  228.0  0.0        1  149.000000  1.000000   \n",
       "4     66    1   3  110.000000  213.0  1.0        2   99.000000  1.000000   \n",
       "..   ...  ...  ..         ...    ...  ...      ...         ...       ...   \n",
       "193   62    1   4  158.000000  170.0  0.0        1  138.000000  1.000000   \n",
       "194   46    1   4  134.000000  310.0  0.0        0  126.000000  0.000000   \n",
       "197   55    1   4  122.000000  223.0  1.0        1  100.000000  0.000000   \n",
       "198   58    1   4  133.763889  385.0  1.0        2  122.795918  0.646259   \n",
       "199   62    1   2  120.000000  254.0  0.0        2   93.000000  1.000000   \n",
       "\n",
       "      oldpeak  target  \n",
       "0    3.000000       2  \n",
       "1    0.000000       0  \n",
       "2    1.500000       2  \n",
       "3    2.500000       1  \n",
       "4    1.300000       0  \n",
       "..        ...     ...  \n",
       "193  0.000000       1  \n",
       "194  0.000000       2  \n",
       "197  0.000000       2  \n",
       "198  1.320833       0  \n",
       "199  0.000000       1  \n",
       "\n",
       "[181 rows x 11 columns]"
      ]
     },
     "execution_count": 66,
     "metadata": {},
     "output_type": "execute_result"
    }
   ],
   "source": [
    "df1 = df[(z<3).all(axis=1)]\n",
    "df1"
   ]
  },
  {
   "cell_type": "code",
   "execution_count": 67,
   "metadata": {},
   "outputs": [
    {
     "data": {
      "text/plain": [
       "age        -0.341400\n",
       "sex         0.000000\n",
       "cp         -1.414098\n",
       "trestbps    0.516323\n",
       "chol       -0.546859\n",
       "fbs         0.695827\n",
       "restecg     0.386145\n",
       "thalach    -0.064362\n",
       "exang      -0.806441\n",
       "oldpeak     0.445245\n",
       "target      0.274859\n",
       "dtype: float64"
      ]
     },
     "execution_count": 67,
     "metadata": {},
     "output_type": "execute_result"
    }
   ],
   "source": [
    "df1.skew()"
   ]
  },
  {
   "cell_type": "code",
   "execution_count": 68,
   "metadata": {},
   "outputs": [
    {
     "data": {
      "text/plain": [
       "<seaborn.axisgrid.PairGrid at 0x2dda78af08>"
      ]
     },
     "execution_count": 68,
     "metadata": {},
     "output_type": "execute_result"
    },
    {
     "data": {
      "image/png": "[encoded data removed]",
      "text/plain": [
       "<Figure size 1980x1980 with 132 Axes>"
      ]
     },
     "metadata": {
      "needs_background": "light"
     },
     "output_type": "display_data"
    }
   ],
   "source": [
    "sns.pairplot(df1)"
   ]
  },
  {
   "cell_type": "code",
   "execution_count": 69,
   "metadata": {},
   "outputs": [
    {
     "data": {
      "text/plain": [
       "<matplotlib.axes._subplots.AxesSubplot at 0x2de088c148>"
      ]
     },
     "execution_count": 69,
     "metadata": {},
     "output_type": "execute_result"
    },
    {
     "data": {
      "image/png": "[encoded data removed]",
      "text/plain": [
       "<Figure size 432x288 with 2 Axes>"
      ]
     },
     "metadata": {
      "needs_background": "light"
     },
     "output_type": "display_data"
    }
   ],
   "source": [
    "# basically target is highly related with sex only\n",
    "sns.heatmap(df1.corr())"
   ]
  },
  {
   "cell_type": "code",
   "execution_count": 70,
   "metadata": {},
   "outputs": [
    {
     "data": {
      "text/plain": [
       "age            AxesSubplot(0.125,0.536818;0.0945122x0.343182)\n",
       "sex         AxesSubplot(0.238415,0.536818;0.0945122x0.343182)\n",
       "cp          AxesSubplot(0.351829,0.536818;0.0945122x0.343182)\n",
       "trestbps    AxesSubplot(0.465244,0.536818;0.0945122x0.343182)\n",
       "chol        AxesSubplot(0.578659,0.536818;0.0945122x0.343182)\n",
       "fbs         AxesSubplot(0.692073,0.536818;0.0945122x0.343182)\n",
       "restecg     AxesSubplot(0.805488,0.536818;0.0945122x0.343182)\n",
       "thalach           AxesSubplot(0.125,0.125;0.0945122x0.343182)\n",
       "exang          AxesSubplot(0.238415,0.125;0.0945122x0.343182)\n",
       "oldpeak        AxesSubplot(0.351829,0.125;0.0945122x0.343182)\n",
       "target         AxesSubplot(0.465244,0.125;0.0945122x0.343182)\n",
       "dtype: object"
      ]
     },
     "execution_count": 70,
     "metadata": {},
     "output_type": "execute_result"
    },
    {
     "data": {
      "image/png": "[encoded data removed]",
      "text/plain": [
       "<Figure size 432x288 with 14 Axes>"
      ]
     },
     "metadata": {
      "needs_background": "light"
     },
     "output_type": "display_data"
    }
   ],
   "source": [
    "df1.plot(kind='box',subplots=True,layout=(2,7))"
   ]
  },
  {
   "cell_type": "code",
   "execution_count": 71,
   "metadata": {},
   "outputs": [],
   "source": [
    "X = df1.drop('target',axis=1)\n",
    "y = df1['target']"
   ]
  },
  {
   "cell_type": "code",
   "execution_count": 72,
   "metadata": {},
   "outputs": [],
   "source": [
    "from sklearn.model_selection import train_test_split"
   ]
  },
  {
   "cell_type": "code",
   "execution_count": 119,
   "metadata": {},
   "outputs": [],
   "source": [
    "from sklearn.tree import DecisionTreeClassifier\n",
    "from sklearn.svm import SVC\n",
    "from sklearn.neighbors import KNeighborsClassifier\n",
    "from sklearn.model_selection import cross_val_score\n",
    "from sklearn.model_selection import GridSearchCV\n",
    "from sklearn.model_selection import RandomizedSearchCV\n",
    "from sklearn.metrics import accuracy_score,confusion_matrix,classification_report\n",
    "from sklearn.ensemble import RandomForestClassifier\n",
    "from sklearn.ensemble import AdaBoostClassifier"
   ]
  },
  {
   "cell_type": "code",
   "execution_count": 120,
   "metadata": {},
   "outputs": [],
   "source": [
    "model=[DecisionTreeClassifier(),SVC(),KNeighborsClassifier()]"
   ]
  },
  {
   "cell_type": "code",
   "execution_count": 121,
   "metadata": {},
   "outputs": [
    {
     "name": "stdout",
     "output_type": "stream",
     "text": [
      "42 0.25\n",
      "42 0.26666666666666666\n",
      "42 0.2\n",
      "43 0.26666666666666666\n",
      "43 0.2833333333333333\n",
      "43 0.3\n",
      "44 0.38333333333333336\n",
      "44 0.2833333333333333\n",
      "44 0.3\n",
      "45 0.13333333333333333\n",
      "45 0.2833333333333333\n",
      "45 0.2\n",
      "46 0.2\n",
      "46 0.31666666666666665\n",
      "46 0.25\n",
      "47 0.3\n",
      "47 0.23333333333333334\n",
      "47 0.18333333333333332\n",
      "48 0.23333333333333334\n",
      "48 0.2\n",
      "48 0.25\n",
      "49 0.2833333333333333\n",
      "49 0.2\n",
      "49 0.25\n",
      "50 0.25\n",
      "50 0.25\n",
      "50 0.3333333333333333\n",
      "51 0.25\n",
      "51 0.23333333333333334\n",
      "51 0.26666666666666666\n",
      "52 0.38333333333333336\n",
      "52 0.3\n",
      "52 0.21666666666666667\n",
      "53 0.2833333333333333\n",
      "53 0.2\n",
      "53 0.2833333333333333\n",
      "54 0.2833333333333333\n",
      "54 0.26666666666666666\n",
      "54 0.18333333333333332\n",
      "55 0.31666666666666665\n",
      "55 0.23333333333333334\n",
      "55 0.2\n",
      "56 0.23333333333333334\n",
      "56 0.31666666666666665\n",
      "56 0.2833333333333333\n",
      "57 0.36666666666666664\n",
      "57 0.31666666666666665\n",
      "57 0.35\n",
      "58 0.38333333333333336\n",
      "58 0.26666666666666666\n",
      "58 0.3333333333333333\n",
      "59 0.26666666666666666\n",
      "59 0.31666666666666665\n",
      "59 0.3\n",
      "60 0.26666666666666666\n",
      "60 0.25\n",
      "60 0.3333333333333333\n",
      "61 0.2833333333333333\n",
      "61 0.31666666666666665\n",
      "61 0.2833333333333333\n",
      "62 0.35\n",
      "62 0.18333333333333332\n",
      "62 0.16666666666666666\n",
      "63 0.26666666666666666\n",
      "63 0.3\n",
      "63 0.2833333333333333\n",
      "64 0.2833333333333333\n",
      "64 0.23333333333333334\n",
      "64 0.25\n",
      "65 0.3333333333333333\n",
      "65 0.2833333333333333\n",
      "65 0.26666666666666666\n",
      "66 0.25\n",
      "66 0.26666666666666666\n",
      "66 0.31666666666666665\n",
      "67 0.35\n",
      "67 0.2\n",
      "67 0.3\n",
      "68 0.38333333333333336\n",
      "68 0.21666666666666667\n",
      "68 0.21666666666666667\n",
      "69 0.35\n",
      "69 0.25\n",
      "69 0.3333333333333333\n",
      "70 0.36666666666666664\n",
      "70 0.26666666666666666\n",
      "70 0.21666666666666667\n",
      "71 0.2833333333333333\n",
      "71 0.3\n",
      "71 0.2833333333333333\n",
      "72 0.2833333333333333\n",
      "72 0.21666666666666667\n",
      "72 0.18333333333333332\n",
      "73 0.38333333333333336\n",
      "73 0.26666666666666666\n",
      "73 0.2\n",
      "74 0.26666666666666666\n",
      "74 0.25\n",
      "74 0.25\n",
      "75 0.2833333333333333\n",
      "75 0.25\n",
      "75 0.2\n",
      "76 0.2833333333333333\n",
      "76 0.3\n",
      "76 0.23333333333333334\n",
      "77 0.2833333333333333\n",
      "77 0.2833333333333333\n",
      "77 0.21666666666666667\n",
      "78 0.38333333333333336\n",
      "78 0.3\n",
      "78 0.31666666666666665\n",
      "79 0.21666666666666667\n",
      "79 0.3333333333333333\n",
      "79 0.3\n",
      "80 0.36666666666666664\n",
      "80 0.26666666666666666\n",
      "80 0.25\n",
      "81 0.31666666666666665\n",
      "81 0.23333333333333334\n",
      "81 0.18333333333333332\n",
      "82 0.25\n",
      "82 0.25\n",
      "82 0.23333333333333334\n",
      "83 0.21666666666666667\n",
      "83 0.3\n",
      "83 0.25\n",
      "84 0.3333333333333333\n",
      "84 0.26666666666666666\n",
      "84 0.21666666666666667\n",
      "85 0.26666666666666666\n",
      "85 0.23333333333333334\n",
      "85 0.18333333333333332\n",
      "86 0.26666666666666666\n",
      "86 0.2833333333333333\n",
      "86 0.16666666666666666\n",
      "87 0.2833333333333333\n",
      "87 0.21666666666666667\n",
      "87 0.2833333333333333\n",
      "88 0.2833333333333333\n",
      "88 0.25\n",
      "88 0.25\n",
      "89 0.4\n",
      "89 0.16666666666666666\n",
      "89 0.23333333333333334\n",
      "90 0.21666666666666667\n",
      "90 0.25\n",
      "90 0.26666666666666666\n",
      "91 0.25\n",
      "91 0.31666666666666665\n",
      "91 0.31666666666666665\n",
      "92 0.21666666666666667\n",
      "92 0.23333333333333334\n",
      "92 0.21666666666666667\n",
      "93 0.35\n",
      "93 0.3\n",
      "93 0.3\n",
      "94 0.3\n",
      "94 0.31666666666666665\n",
      "94 0.25\n",
      "95 0.23333333333333334\n",
      "95 0.13333333333333333\n",
      "95 0.31666666666666665\n",
      "96 0.23333333333333334\n",
      "96 0.2833333333333333\n",
      "96 0.26666666666666666\n",
      "97 0.25\n",
      "97 0.23333333333333334\n",
      "97 0.18333333333333332\n",
      "98 0.3\n",
      "98 0.26666666666666666\n",
      "98 0.35\n",
      "99 0.35\n",
      "99 0.16666666666666666\n",
      "99 0.25\n",
      "100 0.25\n",
      "100 0.3\n",
      "100 0.26666666666666666\n",
      "89 0.4\n"
     ]
    }
   ],
   "source": [
    "import warnings\n",
    "warnings.filterwarnings('ignore')\n",
    "max_score=0\n",
    "for r_state in range(42,101):\n",
    "    X_train, X_test, y_train, y_test = train_test_split(X, y, test_size=0.33, random_state=r_state)\n",
    "    for m in model:    \n",
    "        m.fit(X_train,y_train)\n",
    "        pred = m.predict(X_test)\n",
    "        a = accuracy_score(y_test,pred)\n",
    "        print(r_state,a)\n",
    "        if a>max_score:\n",
    "            max_score = a\n",
    "            final_r_state = r_state\n",
    "print(final_r_state,max_score)"
   ]
  },
  {
   "cell_type": "code",
   "execution_count": 122,
   "metadata": {},
   "outputs": [],
   "source": [
    "# DTC is the best performer for random state 89\n",
    "X_train, X_test, y_train, y_test = train_test_split(X, y, test_size=0.33, random_state=89)"
   ]
  },
  {
   "cell_type": "code",
   "execution_count": 123,
   "metadata": {
    "scrolled": true
   },
   "outputs": [
    {
     "name": "stdout",
     "output_type": "stream",
     "text": [
      "Accuracy Score of DecisionTreeClassifier(ccp_alpha=0.0, class_weight=None, criterion='gini',\n",
      "                       max_depth=None, max_features=None, max_leaf_nodes=None,\n",
      "                       min_impurity_decrease=0.0, min_impurity_split=None,\n",
      "                       min_samples_leaf=1, min_samples_split=2,\n",
      "                       min_weight_fraction_leaf=0.0, presort='deprecated',\n",
      "                       random_state=None, splitter='best') is: \n",
      "0.38333333333333336\n",
      "Accuracy Score of SVC(C=1.0, break_ties=False, cache_size=200, class_weight=None, coef0=0.0,\n",
      "    decision_function_shape='ovr', degree=3, gamma='scale', kernel='rbf',\n",
      "    max_iter=-1, probability=False, random_state=None, shrinking=True,\n",
      "    tol=0.001, verbose=False) is: \n",
      "0.16666666666666666\n",
      "Accuracy Score of KNeighborsClassifier(algorithm='auto', leaf_size=30, metric='minkowski',\n",
      "                     metric_params=None, n_jobs=None, n_neighbors=5, p=2,\n",
      "                     weights='uniform') is: \n",
      "0.23333333333333334\n"
     ]
    }
   ],
   "source": [
    "for m in model:\n",
    "    m.fit(X_train,y_train)\n",
    "    m.score(X_train,y_train)\n",
    "    predm=m.predict(X_test)\n",
    "    print('Accuracy Score of',m, 'is: ')\n",
    "    print(accuracy_score(y_test,predm))"
   ]
  },
  {
   "cell_type": "code",
   "execution_count": 124,
   "metadata": {},
   "outputs": [
    {
     "data": {
      "text/plain": [
       "array([2, 3, 3, 0, 1, 0, 3, 1, 3, 1, 0, 0, 2, 1, 4, 2, 0, 3, 1, 3, 0, 1,\n",
       "       2, 0, 2, 2, 2, 1, 0, 1, 1, 2, 0, 0, 1, 0, 2, 2, 1, 1, 0, 1, 3, 2,\n",
       "       4, 1, 3, 0, 3, 2, 3, 2, 2, 1, 4, 1, 0, 0, 1, 4], dtype=int64)"
      ]
     },
     "execution_count": 124,
     "metadata": {},
     "output_type": "execute_result"
    }
   ],
   "source": [
    "dtc=DecisionTreeClassifier()\n",
    "dtc.fit(X_train,y_train)\n",
    "dtcpred=dtc.predict(X_test)\n",
    "dtcpred"
   ]
  },
  {
   "cell_type": "code",
   "execution_count": 125,
   "metadata": {},
   "outputs": [
    {
     "data": {
      "text/plain": [
       "0.35"
      ]
     },
     "execution_count": 125,
     "metadata": {},
     "output_type": "execute_result"
    }
   ],
   "source": [
    "accuracy_score(y_test,dtcpred)"
   ]
  },
  {
   "cell_type": "code",
   "execution_count": 126,
   "metadata": {},
   "outputs": [
    {
     "data": {
      "text/plain": [
       "GridSearchCV(cv=None, error_score=nan,\n",
       "             estimator=DecisionTreeClassifier(ccp_alpha=0.0, class_weight=None,\n",
       "                                              criterion='gini', max_depth=None,\n",
       "                                              max_features=None,\n",
       "                                              max_leaf_nodes=None,\n",
       "                                              min_impurity_decrease=0.0,\n",
       "                                              min_impurity_split=None,\n",
       "                                              min_samples_leaf=1,\n",
       "                                              min_samples_split=2,\n",
       "                                              min_weight_fraction_leaf=0.0,\n",
       "                                              presort='deprecated',\n",
       "                                              random_state=None,\n",
       "                                              splitter='best'),\n",
       "             iid='deprecated', n_jobs=None,\n",
       "             param_grid={'criterion': ['gini', 'entropy']},\n",
       "             pre_dispatch='2*n_jobs', refit=True, return_train_score=False,\n",
       "             scoring=None, verbose=0)"
      ]
     },
     "execution_count": 126,
     "metadata": {},
     "output_type": "execute_result"
    }
   ],
   "source": [
    "dtc = DecisionTreeClassifier()\n",
    "params = {'criterion': ['gini','entropy']}\n",
    "gscv = GridSearchCV(dtc,param_grid=params)\n",
    "gscv.fit(X_train,y_train)"
   ]
  },
  {
   "cell_type": "code",
   "execution_count": 127,
   "metadata": {},
   "outputs": [
    {
     "data": {
      "text/plain": [
       "{'criterion': 'entropy'}"
      ]
     },
     "execution_count": 127,
     "metadata": {},
     "output_type": "execute_result"
    }
   ],
   "source": [
    "gscv.best_params_"
   ]
  },
  {
   "cell_type": "code",
   "execution_count": 128,
   "metadata": {},
   "outputs": [
    {
     "data": {
      "text/plain": [
       "array([2, 3, 1, 0, 3, 1, 3, 1, 3, 3, 0, 3, 2, 3, 4, 0, 3, 3, 1, 3, 0, 2,\n",
       "       0, 0, 2, 2, 2, 1, 0, 1, 0, 3, 0, 1, 3, 4, 0, 3, 1, 2, 2, 2, 1, 2,\n",
       "       2, 2, 0, 2, 3, 2, 2, 3, 0, 1, 1, 1, 1, 1, 2, 4], dtype=int64)"
      ]
     },
     "execution_count": 128,
     "metadata": {},
     "output_type": "execute_result"
    }
   ],
   "source": [
    "dtc=DecisionTreeClassifier(criterion='entropy')\n",
    "dtc.fit(X_train,y_train)\n",
    "dtcpred=dtc.predict(X_test)\n",
    "dtcpred"
   ]
  },
  {
   "cell_type": "code",
   "execution_count": 129,
   "metadata": {},
   "outputs": [
    {
     "data": {
      "text/plain": [
       "0.25"
      ]
     },
     "execution_count": 129,
     "metadata": {},
     "output_type": "execute_result"
    }
   ],
   "source": [
    "accuracy_score(y_test,dtcpred)"
   ]
  },
  {
   "cell_type": "code",
   "execution_count": 130,
   "metadata": {},
   "outputs": [
    {
     "data": {
      "text/plain": [
       "array([0.5       , 0.25      , 0.        , 0.25      , 0.25      ,\n",
       "       0.        , 0.        , 0.        , 0.25      , 0.25      ,\n",
       "       0.5       , 0.25      , 0.25      , 0.        , 0.25      ,\n",
       "       0.5       , 0.25      , 0.75      , 0.75      , 0.25      ,\n",
       "       0.5       , 0.        , 0.25      , 0.25      , 0.        ,\n",
       "       0.75      , 0.25      , 0.        , 0.        , 0.25      ,\n",
       "       0.        , 0.33333333, 0.        , 0.        , 0.33333333,\n",
       "       1.        , 0.33333333, 0.66666667, 0.        , 0.33333333,\n",
       "       0.33333333, 0.33333333, 0.66666667, 0.33333333, 0.66666667,\n",
       "       0.33333333, 0.66666667, 0.        , 0.33333333, 0.        ])"
      ]
     },
     "execution_count": 130,
     "metadata": {},
     "output_type": "execute_result"
    }
   ],
   "source": [
    "cvs = cross_val_score(DecisionTreeClassifier(criterion='entropy'),X,y,cv=50)\n",
    "cvs"
   ]
  },
  {
   "cell_type": "code",
   "execution_count": 131,
   "metadata": {},
   "outputs": [
    {
     "data": {
      "text/plain": [
       "0.28833333333333333"
      ]
     },
     "execution_count": 131,
     "metadata": {},
     "output_type": "execute_result"
    }
   ],
   "source": [
    "cvs.mean()"
   ]
  },
  {
   "cell_type": "code",
   "execution_count": 132,
   "metadata": {},
   "outputs": [
    {
     "data": {
      "text/plain": [
       "1.0"
      ]
     },
     "execution_count": 132,
     "metadata": {},
     "output_type": "execute_result"
    }
   ],
   "source": [
    "cvs.max()"
   ]
  },
  {
   "cell_type": "code",
   "execution_count": 133,
   "metadata": {},
   "outputs": [
    {
     "name": "stdout",
     "output_type": "stream",
     "text": [
      "0.16666666666666666\n",
      "[[ 4  6  0  1  0]\n",
      " [16  5  0  1  0]\n",
      " [ 9  3  0  3  0]\n",
      " [ 7  1  0  1  0]\n",
      " [ 3  0  0  0  0]]\n",
      "              precision    recall  f1-score   support\n",
      "\n",
      "           0       0.10      0.36      0.16        11\n",
      "           1       0.33      0.23      0.27        22\n",
      "           2       0.00      0.00      0.00        15\n",
      "           3       0.17      0.11      0.13         9\n",
      "           4       0.00      0.00      0.00         3\n",
      "\n",
      "    accuracy                           0.17        60\n",
      "   macro avg       0.12      0.14      0.11        60\n",
      "weighted avg       0.17      0.17      0.15        60\n",
      "\n"
     ]
    }
   ],
   "source": [
    "svc=SVC()\n",
    "svc.fit(X_train,y_train)\n",
    "svcpred=svc.predict(X_test)\n",
    "print(accuracy_score(y_test,svcpred))\n",
    "print(confusion_matrix(y_test,svcpred))\n",
    "print(classification_report(y_test,svcpred))"
   ]
  },
  {
   "cell_type": "code",
   "execution_count": 134,
   "metadata": {},
   "outputs": [
    {
     "data": {
      "text/plain": [
       "GridSearchCV(cv=None, error_score=nan,\n",
       "             estimator=SVC(C=1.0, break_ties=False, cache_size=200,\n",
       "                           class_weight=None, coef0=0.0,\n",
       "                           decision_function_shape='ovr', degree=3,\n",
       "                           gamma='scale', kernel='rbf', max_iter=-1,\n",
       "                           probability=False, random_state=None, shrinking=True,\n",
       "                           tol=0.001, verbose=False),\n",
       "             iid='deprecated', n_jobs=None,\n",
       "             param_grid={'C': [0.0001, 0.001, 0.01, 0.1, 1, 10],\n",
       "                         'gamma': [0.1, 1, 10, 100]},\n",
       "             pre_dispatch='2*n_jobs', refit=True, return_train_score=False,\n",
       "             scoring=None, verbose=0)"
      ]
     },
     "execution_count": 134,
     "metadata": {},
     "output_type": "execute_result"
    }
   ],
   "source": [
    "svc = SVC()\n",
    "params = {'C':[0.0001,0.001,0.01,0.1,1,10],'gamma':[0.1,1,10,100]}\n",
    "gscv = GridSearchCV(svc,param_grid=params)\n",
    "gscv.fit(X_train,y_train)"
   ]
  },
  {
   "cell_type": "code",
   "execution_count": 135,
   "metadata": {},
   "outputs": [
    {
     "data": {
      "text/plain": [
       "{'C': 0.0001, 'gamma': 0.1}"
      ]
     },
     "execution_count": 135,
     "metadata": {},
     "output_type": "execute_result"
    }
   ],
   "source": [
    "gscv.best_params_"
   ]
  },
  {
   "cell_type": "code",
   "execution_count": 136,
   "metadata": {},
   "outputs": [
    {
     "data": {
      "text/plain": [
       "array([0, 0, 0, 0, 0, 0, 0, 0, 0, 0, 0, 0, 0, 0, 0, 0, 0, 0, 0, 0, 0, 0,\n",
       "       0, 0, 0, 0, 0, 0, 0, 0, 0, 0, 0, 0, 0, 0, 0, 0, 0, 0, 0, 0, 0, 0,\n",
       "       0, 0, 0, 0, 0, 0, 0, 0, 0, 0, 0, 0, 0, 0, 0, 0], dtype=int64)"
      ]
     },
     "execution_count": 136,
     "metadata": {},
     "output_type": "execute_result"
    }
   ],
   "source": [
    "svc = SVC(C=0.0001,gamma=0.1)\n",
    "svc.fit(X_train,y_train)\n",
    "svcpred = svc.predict(X_test)\n",
    "svcpred"
   ]
  },
  {
   "cell_type": "code",
   "execution_count": 137,
   "metadata": {},
   "outputs": [
    {
     "data": {
      "text/plain": [
       "0.18333333333333332"
      ]
     },
     "execution_count": 137,
     "metadata": {},
     "output_type": "execute_result"
    }
   ],
   "source": [
    "accuracy_score(y_test,svcpred)"
   ]
  },
  {
   "cell_type": "code",
   "execution_count": 138,
   "metadata": {},
   "outputs": [
    {
     "data": {
      "text/plain": [
       "array([0.25      , 0.25      , 0.25      , 0.25      , 0.25      ,\n",
       "       0.25      , 0.25      , 0.25      , 0.25      , 0.25      ,\n",
       "       0.25      , 0.25      , 0.25      , 0.25      , 0.25      ,\n",
       "       0.25      , 0.25      , 0.25      , 0.25      , 0.25      ,\n",
       "       0.25      , 0.25      , 0.25      , 0.25      , 0.25      ,\n",
       "       0.25      , 0.25      , 0.25      , 0.25      , 0.25      ,\n",
       "       0.25      , 0.33333333, 0.66666667, 0.66666667, 0.33333333,\n",
       "       0.33333333, 0.33333333, 0.33333333, 0.33333333, 0.33333333,\n",
       "       0.33333333, 0.33333333, 0.33333333, 0.33333333, 0.33333333,\n",
       "       0.33333333, 0.33333333, 0.33333333, 0.33333333, 0.33333333])"
      ]
     },
     "execution_count": 138,
     "metadata": {},
     "output_type": "execute_result"
    }
   ],
   "source": [
    "cvs = cross_val_score(SVC(C=0.0001,gamma=0.1),X,y,cv=50)\n",
    "cvs"
   ]
  },
  {
   "cell_type": "code",
   "execution_count": 139,
   "metadata": {},
   "outputs": [
    {
     "data": {
      "text/plain": [
       "0.295"
      ]
     },
     "execution_count": 139,
     "metadata": {},
     "output_type": "execute_result"
    }
   ],
   "source": [
    "cvs.mean()"
   ]
  },
  {
   "cell_type": "code",
   "execution_count": 140,
   "metadata": {},
   "outputs": [
    {
     "data": {
      "text/plain": [
       "0.6666666666666666"
      ]
     },
     "execution_count": 140,
     "metadata": {},
     "output_type": "execute_result"
    }
   ],
   "source": [
    "cvs.max()"
   ]
  },
  {
   "cell_type": "code",
   "execution_count": 141,
   "metadata": {},
   "outputs": [
    {
     "data": {
      "text/plain": [
       "array([2, 1, 1, 0, 3, 3, 0, 0, 3, 0, 2, 3, 3, 0, 1, 0, 0, 3, 1, 1, 0, 0,\n",
       "       0, 3, 3, 0, 3, 0, 0, 1, 0, 3, 1, 0, 3, 3, 0, 3, 1, 2, 3, 3, 1, 0,\n",
       "       2, 3, 0, 1, 3, 3, 1, 2, 2, 1, 1, 1, 2, 0, 0, 0], dtype=int64)"
      ]
     },
     "execution_count": 141,
     "metadata": {},
     "output_type": "execute_result"
    }
   ],
   "source": [
    "knn=KNeighborsClassifier()\n",
    "knn.fit(X_train,y_train)\n",
    "knnpred=knn.predict(X_test)\n",
    "knnpred"
   ]
  },
  {
   "cell_type": "code",
   "execution_count": 142,
   "metadata": {},
   "outputs": [
    {
     "data": {
      "text/plain": [
       "RandomizedSearchCV(cv=None, error_score=nan,\n",
       "                   estimator=KNeighborsClassifier(algorithm='auto',\n",
       "                                                  leaf_size=30,\n",
       "                                                  metric='minkowski',\n",
       "                                                  metric_params=None,\n",
       "                                                  n_jobs=None, n_neighbors=5,\n",
       "                                                  p=2, weights='uniform'),\n",
       "                   iid='deprecated', n_iter=10, n_jobs=None,\n",
       "                   param_distributions={'n_neighbors': range(1, 50)},\n",
       "                   pre_dispatch='2*n_jobs', random_state=None, refit=True,\n",
       "                   return_train_score=False, scoring=None, verbose=0)"
      ]
     },
     "execution_count": 142,
     "metadata": {},
     "output_type": "execute_result"
    }
   ],
   "source": [
    "knn = KNeighborsClassifier()\n",
    "params = {'n_neighbors': range(1,50)}\n",
    "gscv = RandomizedSearchCV(knn,param_distributions=params)\n",
    "gscv.fit(X_train,y_train)"
   ]
  },
  {
   "cell_type": "code",
   "execution_count": 143,
   "metadata": {},
   "outputs": [
    {
     "data": {
      "text/plain": [
       "{'n_neighbors': 14}"
      ]
     },
     "execution_count": 143,
     "metadata": {},
     "output_type": "execute_result"
    }
   ],
   "source": [
    "gscv.best_params_"
   ]
  },
  {
   "cell_type": "code",
   "execution_count": 144,
   "metadata": {},
   "outputs": [
    {
     "data": {
      "text/plain": [
       "array([2, 2, 1, 0, 3, 3, 0, 1, 3, 3, 2, 3, 3, 3, 1, 3, 0, 3, 1, 2, 0, 0,\n",
       "       2, 2, 1, 0, 3, 0, 0, 1, 0, 3, 2, 3, 1, 2, 0, 3, 0, 3, 3, 3, 1, 0,\n",
       "       0, 1, 0, 1, 3, 1, 1, 2, 1, 0, 0, 1, 2, 0, 3, 3], dtype=int64)"
      ]
     },
     "execution_count": 144,
     "metadata": {},
     "output_type": "execute_result"
    }
   ],
   "source": [
    "knn=KNeighborsClassifier(n_neighbors=14)\n",
    "knn.fit(X_train,y_train)\n",
    "knnpred=knn.predict(X_test)\n",
    "knnpred"
   ]
  },
  {
   "cell_type": "code",
   "execution_count": 145,
   "metadata": {},
   "outputs": [
    {
     "data": {
      "text/plain": [
       "0.23333333333333334"
      ]
     },
     "execution_count": 145,
     "metadata": {},
     "output_type": "execute_result"
    }
   ],
   "source": [
    "accuracy_score(y_test,knnpred)"
   ]
  },
  {
   "cell_type": "code",
   "execution_count": 147,
   "metadata": {},
   "outputs": [
    {
     "data": {
      "text/plain": [
       "array([0.25      , 0.25      , 0.25      , 0.25      , 0.25      ,\n",
       "       0.25      , 0.5       , 0.5       , 0.25      , 0.        ,\n",
       "       0.75      , 0.        , 0.25      , 0.5       , 0.5       ,\n",
       "       0.5       , 0.        , 0.75      , 0.25      , 0.25      ,\n",
       "       0.25      , 0.25      , 0.        , 0.5       , 0.        ,\n",
       "       0.25      , 0.5       , 0.        , 0.25      , 0.25      ,\n",
       "       0.        , 0.        , 0.33333333, 0.66666667, 0.        ,\n",
       "       0.33333333, 0.33333333, 0.66666667, 0.33333333, 0.        ,\n",
       "       0.66666667, 1.        , 0.33333333, 0.33333333, 0.66666667,\n",
       "       0.66666667, 0.33333333, 0.66666667, 0.33333333, 0.66666667])"
      ]
     },
     "execution_count": 147,
     "metadata": {},
     "output_type": "execute_result"
    }
   ],
   "source": [
    "cvs = cross_val_score(KNeighborsClassifier(n_neighbors=14),X,y,cv=50)\n",
    "cvs"
   ]
  },
  {
   "cell_type": "code",
   "execution_count": 148,
   "metadata": {},
   "outputs": [
    {
     "data": {
      "text/plain": [
       "0.3416666666666666"
      ]
     },
     "execution_count": 148,
     "metadata": {},
     "output_type": "execute_result"
    }
   ],
   "source": [
    "cvs.mean()"
   ]
  },
  {
   "cell_type": "code",
   "execution_count": 149,
   "metadata": {},
   "outputs": [
    {
     "data": {
      "text/plain": [
       "1.0"
      ]
     },
     "execution_count": 149,
     "metadata": {},
     "output_type": "execute_result"
    }
   ],
   "source": [
    "cvs.max()"
   ]
  },
  {
   "cell_type": "code",
   "execution_count": 150,
   "metadata": {},
   "outputs": [
    {
     "name": "stdout",
     "output_type": "stream",
     "text": [
      "0.3333333333333333\n",
      "[[4 3 2 2 0]\n",
      " [7 9 4 2 0]\n",
      " [0 6 6 3 0]\n",
      " [3 2 1 1 2]\n",
      " [0 2 0 1 0]]\n",
      "              precision    recall  f1-score   support\n",
      "\n",
      "           0       0.29      0.36      0.32        11\n",
      "           1       0.41      0.41      0.41        22\n",
      "           2       0.46      0.40      0.43        15\n",
      "           3       0.11      0.11      0.11         9\n",
      "           4       0.00      0.00      0.00         3\n",
      "\n",
      "    accuracy                           0.33        60\n",
      "   macro avg       0.25      0.26      0.25        60\n",
      "weighted avg       0.33      0.33      0.33        60\n",
      "\n"
     ]
    }
   ],
   "source": [
    "ad=AdaBoostClassifier(n_estimators=50,base_estimator=DecisionTreeClassifier(),algorithm='SAMME')\n",
    "ad.fit(X_train,y_train)\n",
    "predad=ad.predict(X_test)\n",
    "print(accuracy_score(y_test,predad))\n",
    "print(confusion_matrix(y_test,predad))\n",
    "print(classification_report(y_test,predad))"
   ]
  },
  {
   "cell_type": "code",
   "execution_count": 151,
   "metadata": {},
   "outputs": [
    {
     "name": "stdout",
     "output_type": "stream",
     "text": [
      "0.35\n",
      "[[ 1  7  2  1  0]\n",
      " [ 5 12  1  4  0]\n",
      " [ 0  5  5  5  0]\n",
      " [ 1  2  1  3  2]\n",
      " [ 0  1  2  0  0]]\n",
      "              precision    recall  f1-score   support\n",
      "\n",
      "           0       0.14      0.09      0.11        11\n",
      "           1       0.44      0.55      0.49        22\n",
      "           2       0.45      0.33      0.38        15\n",
      "           3       0.23      0.33      0.27         9\n",
      "           4       0.00      0.00      0.00         3\n",
      "\n",
      "    accuracy                           0.35        60\n",
      "   macro avg       0.25      0.26      0.25        60\n",
      "weighted avg       0.34      0.35      0.34        60\n",
      "\n"
     ]
    }
   ],
   "source": [
    "rfc = RandomForestClassifier(criterion='entropy')\n",
    "rfc.fit(X_train,y_train)\n",
    "rfcpred = rfc.predict(X_test)\n",
    "rfcpred\n",
    "print(accuracy_score(y_test,rfcpred))\n",
    "print(confusion_matrix(y_test,rfcpred))\n",
    "print(classification_report(y_test,rfcpred))"
   ]
  },
  {
   "cell_type": "code",
   "execution_count": 152,
   "metadata": {},
   "outputs": [
    {
     "name": "stdout",
     "output_type": "stream",
     "text": [
      "0.38333333333333336\n",
      "[[ 4  6  0  1  0]\n",
      " [ 5 12  0  5  0]\n",
      " [ 3  3  6  2  1]\n",
      " [ 3  0  2  1  3]\n",
      " [ 0  1  1  1  0]]\n",
      "              precision    recall  f1-score   support\n",
      "\n",
      "           0       0.27      0.36      0.31        11\n",
      "           1       0.55      0.55      0.55        22\n",
      "           2       0.67      0.40      0.50        15\n",
      "           3       0.10      0.11      0.11         9\n",
      "           4       0.00      0.00      0.00         3\n",
      "\n",
      "    accuracy                           0.38        60\n",
      "   macro avg       0.32      0.28      0.29        60\n",
      "weighted avg       0.43      0.38      0.40        60\n",
      "\n"
     ]
    }
   ],
   "source": [
    "from sklearn.ensemble import GradientBoostingClassifier\n",
    "gbc = GradientBoostingClassifier()\n",
    "gbc.fit(X_train,y_train)\n",
    "gbcpred = gbc.predict(X_test)\n",
    "gbcpred\n",
    "print(accuracy_score(y_test,gbcpred))\n",
    "print(confusion_matrix(y_test,gbcpred))\n",
    "print(classification_report(y_test,gbcpred))"
   ]
  },
  {
   "cell_type": "code",
   "execution_count": null,
   "metadata": {},
   "outputs": [],
   "source": []
  }
 ],
 "metadata": {
  "kernelspec": {
   "display_name": "Python 3",
   "language": "python",
   "name": "python3"
  },
  "language_info": {
   "codemirror_mode": {
    "name": "ipython",
    "version": 3
   },
   "file_extension": ".py",
   "mimetype": "text/x-python",
   "name": "python",
   "nbconvert_exporter": "python",
   "pygments_lexer": "ipython3",
   "version": "3.7.6"
  }
 },
 "nbformat": 4,
 "nbformat_minor": 4
}
